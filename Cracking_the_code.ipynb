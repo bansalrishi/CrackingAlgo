{
 "cells": [
  {
   "cell_type": "code",
   "execution_count": 21,
   "metadata": {},
   "outputs": [
    {
     "name": "stdout",
     "output_type": "stream",
     "text": [
      "  = 32\n",
      "M = 77\n",
      "a = 97\n",
      "r = 114\n",
      "y = 121\n",
      "  = 32\n",
      "h = 104\n",
      "a = 97\n",
      "d = 100\n",
      "  = 32\n",
      "a = 97\n",
      "  = 32\n",
      "l = 108\n",
      "i = 105\n",
      "t = 116\n",
      "t = 116\n",
      "l = 108\n",
      "e = 101\n",
      "  = 32\n",
      "l = 108\n",
      "a = 97\n",
      "m = 109\n",
      "b = 98\n",
      "  = 32\n",
      "€ = 8364\n",
      "{' ': 6, 'm': 2, 'a': 4, 'r': 1, 'y': 1, 'h': 1, 'd': 1, 'l': 3, 'i': 1, 't': 2, 'e': 1, 'b': 1, '€': 1}\n",
      "2\n",
      "€\n",
      "{' ': 6, 'M': 1, 'a': 4, 'r': 1, 'y': 1, 'h': 1, 'd': 1, 'l': 3, 'i': 1, 't': 2, 'e': 1, 'm': 1, 'b': 1, '€': 1}\n"
     ]
    }
   ],
   "source": [
    "#Count the frequency of each letters in the sentence\n",
    "sentence1 =\" Mary had a little lamb €\"\n",
    "count = {}\n",
    "for i in sentence1:\n",
    "    print(\"{0} = {1}\".format(i, ord(i)))\n",
    "    if i in count:\n",
    "        count[i.lower()] = count[i.lower()] + 1\n",
    "    else:\n",
    "        count[i.lower()] = 1\n",
    "print(count)\n",
    "print(count['m'])\n",
    "print(chr(8364))\n",
    "\n",
    "#Using List Comprehension\n",
    "sentence1 =\" Mary had a little lamb €\"\n",
    "char_count = { char : sentence1.count(char) for char in sentence1 }\n",
    "print(char_count)"
   ]
  },
  {
   "cell_type": "code",
   "execution_count": 15,
   "metadata": {},
   "outputs": [
    {
     "name": "stdout",
     "output_type": "stream",
     "text": [
      "Duplicate letter found= 97\n",
      "Duplicate letter found= 32\n",
      "Duplicate letter found= 97\n",
      "Duplicate letter found= 32\n",
      "Duplicate letter found= 116\n",
      "Duplicate letter found= 108\n",
      "Duplicate letter found= 32\n",
      "Duplicate letter found= 108\n",
      "Duplicate letter found= 97\n",
      "Duplicate letter found= 109\n"
     ]
    }
   ],
   "source": [
    "#Is Unique: Write Code to determine if a string has all unique characters\n",
    "sentence1 = \"Mary had a little lamb\"\n",
    "count = {}\n",
    "for i in sentence1:\n",
    "    if i in count:\n",
    "        print(\"Duplicate letter found=\",ord(i))\n",
    "    else:\n",
    "        count[i.lower()] = 1"
   ]
  },
  {
   "cell_type": "code",
   "execution_count": 10,
   "metadata": {},
   "outputs": [
    {
     "name": "stdout",
     "output_type": "stream",
     "text": [
      "0\n",
      "1\n",
      "3\n",
      "4\n"
     ]
    }
   ],
   "source": [
    "#Activity Selection Problem\n",
    "#start[]  =  {5, 14, 21};\n",
    "#finish[] =  {20, 26, 35};\n",
    "#start  =  [1, 3, 0, 5, 8, 5]\n",
    "#finish =  [2, 4, 6, 7, 9, 9] \n",
    "def activity(s, f):\n",
    "    fin = f[0]\n",
    "    print (0)\n",
    "    for i in range(1, len(s)):\n",
    "        if s[i]>= fin:\n",
    "            print (i)\n",
    "            fin = f[i]\n",
    "start  =  [1, 3, 0, 5, 8, 5]\n",
    "finish =  [2, 4, 6, 7, 9, 9]    \n",
    "activity(start, finish)    \n"
   ]
  },
  {
   "cell_type": "code",
   "execution_count": 29,
   "metadata": {},
   "outputs": [
    {
     "name": "stdout",
     "output_type": "stream",
     "text": [
      "          *                                                           *          \n",
      "            *                                                       *            \n",
      "              *                                                   *              \n",
      "                *                                               *                \n",
      "                  *                                           *                  \n",
      "                    *                                       *                    \n",
      "                      *                                   *                      \n",
      "                        *                               *                        \n",
      "                          *                           *                          \n",
      "                            *                       *                            \n",
      "                              *                   *                              \n",
      "                                *               *                                \n",
      "                                  *           *                                  \n",
      "                                    *       *                                    \n",
      "                                      *   *                                      \n",
      "                                        *                                        \n",
      "                                        *                                        \n",
      "                                        *                                        \n",
      "                                        *                                        \n",
      "                                        *                                        \n",
      "                                        *                                        \n",
      "                                        *                                        \n",
      "                                        *                                        \n",
      "                                        *                                        \n",
      "                                        *                                        \n",
      "                                        *                                        \n",
      "                                        *                                        \n",
      "                                        *                                        \n",
      "                                        *                                        \n",
      "                                        *                                        \n"
     ]
    }
   ],
   "source": [
    "#Print asterisk in Y pattern across n lines\n",
    "#n = no. of lines\n",
    "n = 30\n",
    "if n%2 == 0:\n",
    "    m = n/2\n",
    "else:\n",
    "    m = (n -1)/2 \n",
    "for i in range(0, n):\n",
    "    for j in range(0,40):\n",
    "        if j == 40/2 - m or j == 40/2 + m:\n",
    "            print(\"*\", end =\" \")\n",
    "        else:\n",
    "            print(\" \", end =\" \")\n",
    "    print(\" \")\n",
    "    if m != 0:\n",
    "        m = m - 1\n",
    "    "
   ]
  },
  {
   "cell_type": "code",
   "execution_count": 41,
   "metadata": {},
   "outputs": [
    {
     "name": "stdout",
     "output_type": "stream",
     "text": [
      "0\n",
      "9\n",
      "1\n",
      "3\n",
      "6\n",
      "7\n",
      "7\n"
     ]
    }
   ],
   "source": [
    "#Given multiple numbers and a number n, the task is to print the remainder after multiply all the number divide by n\n",
    "#arr = [99, 9, 5, 25, 35, 14] \n",
    "#n = 11\n",
    "\n",
    "def remainder(arr, n):\n",
    "    tot = 1\n",
    "    for i in arr:\n",
    "        if tot == 0:\n",
    "            tot =1\n",
    "        tot = tot * i\n",
    "        tot = tot % n\n",
    "        print(tot)\n",
    "    print(tot)\n",
    "\n",
    "arr = [99, 9, 5, 25, 35, 14] \n",
    "n = 11\n",
    "remainder(arr, n)"
   ]
  },
  {
   "cell_type": "code",
   "execution_count": 3,
   "metadata": {},
   "outputs": [
    {
     "name": "stdout",
     "output_type": "stream",
     "text": [
      "[[1 2 3]\n",
      " [4 5 6]]\n",
      "[[1 2]\n",
      " [3 4]\n",
      " [5 6]]\n"
     ]
    }
   ],
   "source": [
    "#Given Elements in an array, convert into matrix. Check if elements are sufficient or not\n",
    "import numpy as np\n",
    "class Matrix():\n",
    "    def __init__(self, l, b, elements):\n",
    "        self.width = l\n",
    "        self.height = b\n",
    "        self.mat = [[0 for x in range(b)] for y in range(l)]\n",
    "        if l*b != len(elements):\n",
    "            print(\"add approriate numbe rof items\")\n",
    "        self.add(l, b, elements)\n",
    "    \n",
    "        \n",
    "    def add(self, l , b, elements):\n",
    "        i = 0\n",
    "        for j in range(l):\n",
    "            for k in range(b):\n",
    "                self.mat[j][k] = elements[i]\n",
    "                i = i + 1\n",
    "        print(np.array(self.mat))\n",
    "        \n",
    "        \n",
    "        \n",
    "        \n",
    "elements = [1,2,3,4,5,6]\n",
    "a = Matrix(2, 3, elements)\n",
    "\n",
    "elements = [1,2,3,4,5,6]\n",
    "b = Matrix(3, 2, elements)"
   ]
  },
  {
   "cell_type": "code",
   "execution_count": 2,
   "metadata": {},
   "outputs": [
    {
     "name": "stdout",
     "output_type": "stream",
     "text": [
      "['0', '0', '1']\n",
      "['0', '1', '0']\n",
      "['1', '0', '0']\n"
     ]
    }
   ],
   "source": [
    "#Generate Permutations\n",
    "def permutation(lst):\n",
    "    if len(lst) == 0:\n",
    "        return []\n",
    " \n",
    "    if len(lst) == 1:\n",
    "        return [lst]\n",
    " \n",
    "    l = []\n",
    "    done = []\n",
    "    # Iterate the input(lst) and calculate the permutation\n",
    "    for i in range(len(lst)):\n",
    "        m = lst[i]\n",
    "        if m not in done:\n",
    "            remLst = lst[:i] + lst[i+1:]\n",
    "            done.append(m)\n",
    "            # Generating all permutations where m is first\n",
    "            # element\n",
    "            for p in permutation(remLst):\n",
    "                l.append([m] + p)\n",
    "    return l\n",
    "\n",
    "\n",
    "data = list('001')\n",
    "for p in permutation(data):\n",
    "    print(p)\n"
   ]
  },
  {
   "cell_type": "code",
   "execution_count": 7,
   "metadata": {},
   "outputs": [
    {
     "name": "stdout",
     "output_type": "stream",
     "text": [
      "[[0, 0, 0], [0, 0, 1], [0, 1, 0], [0, 1, 2], [1, 0, 0], [1, 0, 2], [1, 1, 1], [1, 1, 2]]\n"
     ]
    }
   ],
   "source": [
    "#generate permutation where each place range is different and avoid sum = n using List Comprehension\n",
    "n =2\n",
    "perm = [[a,b,c] for a in range(0,2) for b in range(0,2) for c in range(0,3) if a + b + c != n ]\n",
    "print(perm)"
   ]
  },
  {
   "cell_type": "code",
   "execution_count": 18,
   "metadata": {},
   "outputs": [
    {
     "name": "stdout",
     "output_type": "stream",
     "text": [
      "5\n",
      "1 2 3 4 5\n",
      "4\n"
     ]
    }
   ],
   "source": [
    "if __name__ == '__main__':\n",
    "    n = int(input())\n",
    "    arr = map(int, input().split())\n",
    "    arr = list(arr)\n",
    "    if n >= 2 and n <= 10 and min(arr) >= -100 and max(arr) <= 100:\n",
    "        max_1 = arr[0]\n",
    "        max_2 = arr[0]\n",
    "        for i in range(1, len(arr)):\n",
    "            if max_1 < arr[i]:\n",
    "                max_2 = max_1\n",
    "                max_1 = arr[i]\n",
    "        print(max_2)\n",
    "            "
   ]
  },
  {
   "cell_type": "code",
   "execution_count": 15,
   "metadata": {},
   "outputs": [
    {
     "name": "stdout",
     "output_type": "stream",
     "text": [
      "6\n"
     ]
    }
   ],
   "source": [
    "lst = [2, 3, 4, 5, 6]\n",
    "print(max(lst))"
   ]
  },
  {
   "cell_type": "code",
   "execution_count": null,
   "metadata": {},
   "outputs": [],
   "source": []
  }
 ],
 "metadata": {
  "kernelspec": {
   "display_name": "Python 3",
   "language": "python",
   "name": "python3"
  },
  "language_info": {
   "codemirror_mode": {
    "name": "ipython",
    "version": 3
   },
   "file_extension": ".py",
   "mimetype": "text/x-python",
   "name": "python",
   "nbconvert_exporter": "python",
   "pygments_lexer": "ipython3",
   "version": "3.8.5"
  }
 },
 "nbformat": 4,
 "nbformat_minor": 2
}
