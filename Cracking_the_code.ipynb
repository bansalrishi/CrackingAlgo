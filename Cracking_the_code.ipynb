{
 "cells": [
  {
   "cell_type": "code",
   "execution_count": 21,
   "metadata": {},
   "outputs": [
    {
     "name": "stdout",
     "output_type": "stream",
     "text": [
      "  = 32\n",
      "M = 77\n",
      "a = 97\n",
      "r = 114\n",
      "y = 121\n",
      "  = 32\n",
      "h = 104\n",
      "a = 97\n",
      "d = 100\n",
      "  = 32\n",
      "a = 97\n",
      "  = 32\n",
      "l = 108\n",
      "i = 105\n",
      "t = 116\n",
      "t = 116\n",
      "l = 108\n",
      "e = 101\n",
      "  = 32\n",
      "l = 108\n",
      "a = 97\n",
      "m = 109\n",
      "b = 98\n",
      "  = 32\n",
      "€ = 8364\n",
      "{' ': 6, 'm': 2, 'a': 4, 'r': 1, 'y': 1, 'h': 1, 'd': 1, 'l': 3, 'i': 1, 't': 2, 'e': 1, 'b': 1, '€': 1}\n",
      "2\n",
      "€\n",
      "{' ': 6, 'M': 1, 'a': 4, 'r': 1, 'y': 1, 'h': 1, 'd': 1, 'l': 3, 'i': 1, 't': 2, 'e': 1, 'm': 1, 'b': 1, '€': 1}\n"
     ]
    }
   ],
   "source": [
    "#Count the frequency of each letters in the sentence\n",
    "sentence1 =\" Mary had a little lamb €\"\n",
    "count = {}\n",
    "for i in sentence1:\n",
    "    print(\"{0} = {1}\".format(i, ord(i)))\n",
    "    if i in count:\n",
    "        count[i.lower()] = count[i.lower()] + 1\n",
    "    else:\n",
    "        count[i.lower()] = 1\n",
    "print(count)\n",
    "print(count['m'])\n",
    "print(chr(8364))\n",
    "\n",
    "#Using List Comprehension\n",
    "sentence1 =\" Mary had a little lamb €\"\n",
    "char_count = { char : sentence1.count(char) for char in sentence1 }\n",
    "print(char_count)"
   ]
  },
  {
   "cell_type": "code",
   "execution_count": 15,
   "metadata": {},
   "outputs": [
    {
     "name": "stdout",
     "output_type": "stream",
     "text": [
      "Duplicate letter found= 97\n",
      "Duplicate letter found= 32\n",
      "Duplicate letter found= 97\n",
      "Duplicate letter found= 32\n",
      "Duplicate letter found= 116\n",
      "Duplicate letter found= 108\n",
      "Duplicate letter found= 32\n",
      "Duplicate letter found= 108\n",
      "Duplicate letter found= 97\n",
      "Duplicate letter found= 109\n"
     ]
    }
   ],
   "source": [
    "#Is Unique: Write Code to determine if a string has all unique characters\n",
    "sentence1 = \"Mary had a little lamb\"\n",
    "count = {}\n",
    "for i in sentence1:\n",
    "    if i in count:\n",
    "        print(\"Duplicate letter found=\",ord(i))\n",
    "    else:\n",
    "        count[i.lower()] = 1"
   ]
  },
  {
   "cell_type": "code",
   "execution_count": 10,
   "metadata": {},
   "outputs": [
    {
     "name": "stdout",
     "output_type": "stream",
     "text": [
      "0\n",
      "1\n",
      "3\n",
      "4\n"
     ]
    }
   ],
   "source": [
    "#Activity Selection Problem\n",
    "#start[]  =  {5, 14, 21};\n",
    "#finish[] =  {20, 26, 35};\n",
    "#start  =  [1, 3, 0, 5, 8, 5]\n",
    "#finish =  [2, 4, 6, 7, 9, 9] \n",
    "def activity(s, f):\n",
    "    fin = f[0]\n",
    "    print (0)\n",
    "    for i in range(1, len(s)):\n",
    "        if s[i]>= fin:\n",
    "            print (i)\n",
    "            fin = f[i]\n",
    "start  =  [1, 3, 0, 5, 8, 5]\n",
    "finish =  [2, 4, 6, 7, 9, 9]    \n",
    "activity(start, finish)    \n"
   ]
  },
  {
   "cell_type": "code",
   "execution_count": 29,
   "metadata": {},
   "outputs": [
    {
     "name": "stdout",
     "output_type": "stream",
     "text": [
      "          *                                                           *          \n",
      "            *                                                       *            \n",
      "              *                                                   *              \n",
      "                *                                               *                \n",
      "                  *                                           *                  \n",
      "                    *                                       *                    \n",
      "                      *                                   *                      \n",
      "                        *                               *                        \n",
      "                          *                           *                          \n",
      "                            *                       *                            \n",
      "                              *                   *                              \n",
      "                                *               *                                \n",
      "                                  *           *                                  \n",
      "                                    *       *                                    \n",
      "                                      *   *                                      \n",
      "                                        *                                        \n",
      "                                        *                                        \n",
      "                                        *                                        \n",
      "                                        *                                        \n",
      "                                        *                                        \n",
      "                                        *                                        \n",
      "                                        *                                        \n",
      "                                        *                                        \n",
      "                                        *                                        \n",
      "                                        *                                        \n",
      "                                        *                                        \n",
      "                                        *                                        \n",
      "                                        *                                        \n",
      "                                        *                                        \n",
      "                                        *                                        \n"
     ]
    }
   ],
   "source": [
    "#Print asterisk in Y pattern across n lines\n",
    "\n",
    "n = 30\n",
    "if n%2 == 0:\n",
    "    m = n/2\n",
    "else:\n",
    "    m = (n -1)/2 \n",
    "for i in range(0, n):\n",
    "    for j in range(0,40):\n",
    "        if j == 40/2 - m or j == 40/2 + m:\n",
    "            print(\"*\", end =\" \")\n",
    "        else:\n",
    "            print(\" \", end =\" \")\n",
    "    print(\" \")\n",
    "    if m != 0:\n",
    "        m = m - 1\n",
    "    "
   ]
  },
  {
   "cell_type": "code",
   "execution_count": 41,
   "metadata": {},
   "outputs": [
    {
     "name": "stdout",
     "output_type": "stream",
     "text": [
      "0\n",
      "9\n",
      "1\n",
      "3\n",
      "6\n",
      "7\n",
      "7\n"
     ]
    }
   ],
   "source": [
    "#Given multiple numbers and a number n, the task is to print the remainder after multiply all the number divide by n\n",
    "#arr = [99, 9, 5, 25, 35, 14] \n",
    "#n = 11\n",
    "\n",
    "def remainder(arr, n):\n",
    "    tot = 1\n",
    "    for i in arr:\n",
    "        if tot == 0:\n",
    "            tot =1\n",
    "        tot = tot * i\n",
    "        tot = tot % n\n",
    "        print(tot)\n",
    "    print(tot)\n",
    "\n",
    "arr = [99, 9, 5, 25, 35, 14] \n",
    "n = 11\n",
    "remainder(arr, n)"
   ]
  },
  {
   "cell_type": "code",
   "execution_count": null,
   "metadata": {},
   "outputs": [],
   "source": []
  }
 ],
 "metadata": {
  "kernelspec": {
   "display_name": "Python 3",
   "language": "python",
   "name": "python3"
  },
  "language_info": {
   "codemirror_mode": {
    "name": "ipython",
    "version": 3
   },
   "file_extension": ".py",
   "mimetype": "text/x-python",
   "name": "python",
   "nbconvert_exporter": "python",
   "pygments_lexer": "ipython3",
   "version": "3.8.5"
  }
 },
 "nbformat": 4,
 "nbformat_minor": 2
}
