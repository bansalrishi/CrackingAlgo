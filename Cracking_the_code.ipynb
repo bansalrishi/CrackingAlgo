{
 "cells": [
  {
   "cell_type": "code",
   "execution_count": 21,
   "metadata": {},
   "outputs": [
    {
     "name": "stdout",
     "output_type": "stream",
     "text": [
      "1\n",
      "abba\n",
      "4\n"
     ]
    }
   ],
   "source": [
    "#Count no of anagrams\n",
    "#Input 1: 1\n",
    "#Input 2: String to check (e.g: abba)\n",
    "T = int(input().strip())\n",
    "for a0 in range(T):\n",
    "    s = input().strip()\n",
    "    anag = 0\n",
    "    map = {}\n",
    "    for i in range(len(s)):\n",
    "        for j in range(len(s) - i):\n",
    "            s1 = ''.join(sorted(s[j:j + 1 + i]))\n",
    "            map[s1] = map.get(s1, 0) + 1\n",
    "    for key in map:\n",
    "        anag += (map[key] - 1) * map[key] // 2\n",
    "    print(anag)"
   ]
  },
  {
   "cell_type": "code",
   "execution_count": 21,
   "metadata": {},
   "outputs": [
    {
     "name": "stdout",
     "output_type": "stream",
     "text": [
      "  = 32\n",
      "M = 77\n",
      "a = 97\n",
      "r = 114\n",
      "y = 121\n",
      "  = 32\n",
      "h = 104\n",
      "a = 97\n",
      "d = 100\n",
      "  = 32\n",
      "a = 97\n",
      "  = 32\n",
      "l = 108\n",
      "i = 105\n",
      "t = 116\n",
      "t = 116\n",
      "l = 108\n",
      "e = 101\n",
      "  = 32\n",
      "l = 108\n",
      "a = 97\n",
      "m = 109\n",
      "b = 98\n",
      "  = 32\n",
      "€ = 8364\n",
      "{' ': 6, 'm': 2, 'a': 4, 'r': 1, 'y': 1, 'h': 1, 'd': 1, 'l': 3, 'i': 1, 't': 2, 'e': 1, 'b': 1, '€': 1}\n",
      "2\n",
      "€\n",
      "{' ': 6, 'M': 1, 'a': 4, 'r': 1, 'y': 1, 'h': 1, 'd': 1, 'l': 3, 'i': 1, 't': 2, 'e': 1, 'm': 1, 'b': 1, '€': 1}\n"
     ]
    }
   ],
   "source": [
    "#Count the frequency of each letters in the sentence\n",
    "sentence1 =\" Mary had a little lamb €\"\n",
    "count = {}\n",
    "for i in sentence1:\n",
    "    print(\"{0} = {1}\".format(i, ord(i)))\n",
    "    if i in count:\n",
    "        count[i.lower()] = count[i.lower()] + 1\n",
    "    else:\n",
    "        count[i.lower()] = 1\n",
    "print(count)\n",
    "print(count['m'])\n",
    "print(chr(8364))\n",
    "\n",
    "#Using List Comprehension\n",
    "sentence1 =\" Mary had a little lamb €\"\n",
    "char_count = { char : sentence1.count(char) for char in sentence1 }\n",
    "print(char_count)"
   ]
  },
  {
   "cell_type": "code",
   "execution_count": 15,
   "metadata": {},
   "outputs": [
    {
     "name": "stdout",
     "output_type": "stream",
     "text": [
      "Duplicate letter found= 97\n",
      "Duplicate letter found= 32\n",
      "Duplicate letter found= 97\n",
      "Duplicate letter found= 32\n",
      "Duplicate letter found= 116\n",
      "Duplicate letter found= 108\n",
      "Duplicate letter found= 32\n",
      "Duplicate letter found= 108\n",
      "Duplicate letter found= 97\n",
      "Duplicate letter found= 109\n"
     ]
    }
   ],
   "source": [
    "#Is Unique: Write Code to determine if a string has all unique characters\n",
    "sentence1 = \"Mary had a little lamb\"\n",
    "count = {}\n",
    "for i in sentence1:\n",
    "    if i in count:\n",
    "        print(\"Duplicate letter found=\",ord(i))\n",
    "    else:\n",
    "        count[i.lower()] = 1"
   ]
  },
  {
   "cell_type": "code",
   "execution_count": 10,
   "metadata": {},
   "outputs": [
    {
     "name": "stdout",
     "output_type": "stream",
     "text": [
      "0\n",
      "1\n",
      "3\n",
      "4\n"
     ]
    }
   ],
   "source": [
    "#Activity Selection Problem\n",
    "#start[]  =  {5, 14, 21};\n",
    "#finish[] =  {20, 26, 35};\n",
    "#start  =  [1, 3, 0, 5, 8, 5]\n",
    "#finish =  [2, 4, 6, 7, 9, 9] \n",
    "def activity(s, f):\n",
    "    fin = f[0]\n",
    "    print (0)\n",
    "    for i in range(1, len(s)):\n",
    "        if s[i]>= fin:\n",
    "            print (i)\n",
    "            fin = f[i]\n",
    "start  =  [1, 3, 0, 5, 8, 5]\n",
    "finish =  [2, 4, 6, 7, 9, 9]    \n",
    "activity(start, finish)    \n"
   ]
  },
  {
   "cell_type": "code",
   "execution_count": 29,
   "metadata": {},
   "outputs": [
    {
     "name": "stdout",
     "output_type": "stream",
     "text": [
      "          *                                                           *          \n",
      "            *                                                       *            \n",
      "              *                                                   *              \n",
      "                *                                               *                \n",
      "                  *                                           *                  \n",
      "                    *                                       *                    \n",
      "                      *                                   *                      \n",
      "                        *                               *                        \n",
      "                          *                           *                          \n",
      "                            *                       *                            \n",
      "                              *                   *                              \n",
      "                                *               *                                \n",
      "                                  *           *                                  \n",
      "                                    *       *                                    \n",
      "                                      *   *                                      \n",
      "                                        *                                        \n",
      "                                        *                                        \n",
      "                                        *                                        \n",
      "                                        *                                        \n",
      "                                        *                                        \n",
      "                                        *                                        \n",
      "                                        *                                        \n",
      "                                        *                                        \n",
      "                                        *                                        \n",
      "                                        *                                        \n",
      "                                        *                                        \n",
      "                                        *                                        \n",
      "                                        *                                        \n",
      "                                        *                                        \n",
      "                                        *                                        \n"
     ]
    }
   ],
   "source": [
    "#Print asterisk in Y pattern across n lines\n",
    "#n = no. of lines\n",
    "n = 30\n",
    "if n%2 == 0:\n",
    "    m = n/2\n",
    "else:\n",
    "    m = (n -1)/2 \n",
    "for i in range(0, n):\n",
    "    for j in range(0,40):\n",
    "        if j == 40/2 - m or j == 40/2 + m:\n",
    "            print(\"*\", end =\" \")\n",
    "        else:\n",
    "            print(\" \", end =\" \")\n",
    "    print(\" \")\n",
    "    if m != 0:\n",
    "        m = m - 1\n",
    "    "
   ]
  },
  {
   "cell_type": "code",
   "execution_count": 41,
   "metadata": {},
   "outputs": [
    {
     "name": "stdout",
     "output_type": "stream",
     "text": [
      "0\n",
      "9\n",
      "1\n",
      "3\n",
      "6\n",
      "7\n",
      "7\n"
     ]
    }
   ],
   "source": [
    "#Given multiple numbers and a number n, the task is to print the remainder after multiply all the number divide by n\n",
    "#arr = [99, 9, 5, 25, 35, 14] \n",
    "#n = 11\n",
    "\n",
    "def remainder(arr, n):\n",
    "    tot = 1\n",
    "    for i in arr:\n",
    "        if tot == 0:\n",
    "            tot =1\n",
    "        tot = tot * i\n",
    "        tot = tot % n\n",
    "        print(tot)\n",
    "    print(tot)\n",
    "\n",
    "arr = [99, 9, 5, 25, 35, 14] \n",
    "n = 11\n",
    "remainder(arr, n)"
   ]
  },
  {
   "cell_type": "code",
   "execution_count": 3,
   "metadata": {},
   "outputs": [
    {
     "name": "stdout",
     "output_type": "stream",
     "text": [
      "[[1 2 3]\n",
      " [4 5 6]]\n",
      "[[1 2]\n",
      " [3 4]\n",
      " [5 6]]\n"
     ]
    }
   ],
   "source": [
    "#Given Elements in an array, convert into matrix. Check if elements are sufficient or not\n",
    "import numpy as np\n",
    "class Matrix():\n",
    "    def __init__(self, l, b, elements):\n",
    "        self.width = l\n",
    "        self.height = b\n",
    "        self.mat = [[0 for x in range(b)] for y in range(l)]\n",
    "        if l*b != len(elements):\n",
    "            print(\"add approriate numbe rof items\")\n",
    "        self.add(l, b, elements)\n",
    "    \n",
    "        \n",
    "    def add(self, l , b, elements):\n",
    "        i = 0\n",
    "        for j in range(l):\n",
    "            for k in range(b):\n",
    "                self.mat[j][k] = elements[i]\n",
    "                i = i + 1\n",
    "        print(np.array(self.mat))\n",
    "        \n",
    "        \n",
    "        \n",
    "        \n",
    "elements = [1,2,3,4,5,6]\n",
    "a = Matrix(2, 3, elements)\n",
    "\n",
    "elements = [1,2,3,4,5,6]\n",
    "b = Matrix(3, 2, elements)"
   ]
  },
  {
   "cell_type": "code",
   "execution_count": 2,
   "metadata": {},
   "outputs": [
    {
     "name": "stdout",
     "output_type": "stream",
     "text": [
      "['0', '0', '1']\n",
      "['0', '1', '0']\n",
      "['1', '0', '0']\n"
     ]
    }
   ],
   "source": [
    "#Generate Permutations\n",
    "def permutation(lst):\n",
    "    if len(lst) == 0:\n",
    "        return []\n",
    " \n",
    "    if len(lst) == 1:\n",
    "        return [lst]\n",
    " \n",
    "    l = []\n",
    "    done = []\n",
    "    # Iterate the input(lst) and calculate the permutation\n",
    "    for i in range(len(lst)):\n",
    "        m = lst[i]\n",
    "        if m not in done:\n",
    "            remLst = lst[:i] + lst[i+1:]\n",
    "            done.append(m)\n",
    "            # Generating all permutations where m is first\n",
    "            # element\n",
    "            for p in permutation(remLst):\n",
    "                l.append([m] + p)\n",
    "    return l\n",
    "\n",
    "\n",
    "data = list('001')\n",
    "for p in permutation(data):\n",
    "    print(p)\n"
   ]
  },
  {
   "cell_type": "code",
   "execution_count": 7,
   "metadata": {},
   "outputs": [
    {
     "name": "stdout",
     "output_type": "stream",
     "text": [
      "[[0, 0, 0], [0, 0, 1], [0, 1, 0], [0, 1, 2], [1, 0, 0], [1, 0, 2], [1, 1, 1], [1, 1, 2]]\n"
     ]
    }
   ],
   "source": [
    "#generate permutation where each place range is different and avoid sum = n using List Comprehension\n",
    "n =2\n",
    "perm = [[a,b,c] for a in range(0,2) for b in range(0,2) for c in range(0,3) if a + b + c != n ]\n",
    "print(perm)"
   ]
  },
  {
   "cell_type": "code",
   "execution_count": 1,
   "metadata": {},
   "outputs": [
    {
     "name": "stdout",
     "output_type": "stream",
     "text": [
      "5\n",
      "1 3 6 5 4\n",
      "3\n"
     ]
    }
   ],
   "source": [
    "#Finding the second max in a list\n",
    "if __name__ == '__main__':\n",
    "    n = int(input())\n",
    "    arr = map(int, input().split())\n",
    "    arr = list(arr)\n",
    "    if n >= 2 and n <= 10 and min(arr) >= -100 and max(arr) <= 100:\n",
    "        max_1 = arr[0]\n",
    "        max_2 = arr[0]\n",
    "        for i in range(1, len(arr)):\n",
    "            if max_1 < arr[i]:\n",
    "                max_2 = max_1\n",
    "                max_1 = arr[i]\n",
    "        print(max_2)\n",
    "            "
   ]
  },
  {
   "cell_type": "code",
   "execution_count": 25,
   "metadata": {},
   "outputs": [
    {
     "name": "stdout",
     "output_type": "stream",
     "text": [
      "0 1 2\n",
      "0 1 3\n",
      "0 1 4\n",
      "0 1 5\n",
      "0 2 3\n",
      "0 2 4\n",
      "0 2 5\n",
      "0 3 4\n",
      "0 3 5\n",
      "0 4 5\n",
      "1 2 3\n",
      "1 2 4\n",
      "1 2 5\n",
      "1 3 4\n",
      "1 3 5\n",
      "1 4 5\n",
      "2 3 4\n",
      "2 3 5\n",
      "2 4 5\n",
      "3 4 5\n"
     ]
    }
   ],
   "source": [
    "s = [1, 3, 9,9,27,81]\n",
    "r = 3\n",
    "n = 3\n",
    "for i in range(len(s)):\n",
    "    for j in range(i + 1, len(s)):\n",
    "        for k in range(j +1, len(s)):\n",
    "            print(i,j,k)\n",
    "            if s[j] / s[i] == s[k] / s[j] == r:\n",
    "                pass\n",
    "\n"
   ]
  },
  {
   "cell_type": "code",
   "execution_count": 1,
   "metadata": {},
   "outputs": [
    {
     "name": "stdout",
     "output_type": "stream",
     "text": [
      "3\n"
     ]
    }
   ],
   "source": [
    "# 1,2,1,2,4, ratio = 2\n",
    "# (0,1,4) (0,3,4)(2,3,4)\n",
    "def countTriplets(arr, r):\n",
    "        count = 0\n",
    "        dict = {}\n",
    "        dictPairs = {}\n",
    "\n",
    "        for i in reversed(arr):\n",
    "                if i*r in dictPairs:\n",
    "                        count += dictPairs[i*r]\n",
    "                if i*r in dict:\n",
    "                        dictPairs[i] = dictPairs.get(i, 0) + dict[i*r]\n",
    "\n",
    "                dict[i] = dict.get(i, 0) + 1\n",
    "\n",
    "        return count\n",
    "print(countTriplets([1,2,1,2,4], 2))"
   ]
  },
  {
   "cell_type": "code",
   "execution_count": 2,
   "metadata": {},
   "outputs": [
    {
     "name": "stdout",
     "output_type": "stream",
     "text": [
      "{'great': ['good'], 'good': ['great', 'fine'], 'fine': ['good', 'better'], 'better': ['fine'], 'acting': ['drama'], 'drama': ['acting'], 'skills': ['talent'], 'talent': ['skills']}\n",
      "Similar\n"
     ]
    }
   ],
   "source": [
    "#https://massivealgorithms.blogspot.com/2018/05/leetcode-737-sentence-similarity-ii.html\n",
    "words1 = [\"great\", \"acting\", \"skills\"] \n",
    "words2 = [\"fine\", \"drama\", \"talent\"]\n",
    "pairs = [[\"great\", \"good\"], [\"fine\", \"good\"], [\"fine\", \"better\"], [\"acting\",\"drama\"], [\"skills\",\"talent\"]]\n",
    "pairMap = {}\n",
    "for pair in pairs:\n",
    "    if pair[0] not in pairMap:\n",
    "        pairMap[pair[0]] = list()\n",
    "    if pair[1] not in pairMap:\n",
    "        pairMap[pair[1]] = list()  \n",
    "    pairMap[pair[0]].append(pair[1])\n",
    "    pairMap[pair[1]].append(pair[0])\n",
    "print(pairMap)\n",
    "\n",
    "def dfs(source, target, pairMap, visited):\n",
    "    if pairMap.get(source) == target:\n",
    "        return True\n",
    "    visited[source] = None\n",
    "    for next in pairMap[source]:\n",
    "        if (next not in visited and next == target) or (next not in visited and dfs(next, target, pairMap, visited)):\n",
    "            return True\n",
    "    return False\n",
    "    \n",
    "    \n",
    "lenStr1 = len(words1)\n",
    "lenStr2 = len(words2)\n",
    "flag = True\n",
    "if lenStr1 != lenStr1:\n",
    "    print(\"Not Similar\")\n",
    "else:\n",
    "    for i in range(lenStr1):\n",
    "        visited = {}\n",
    "        result = dfs(words1[i], words2[i], pairMap, visited)\n",
    "        if not result:\n",
    "            flag = False\n",
    "    if flag:\n",
    "        print(\"Similar\")\n",
    "    else:\n",
    "        print(\"Not Similar\")\n",
    "    "
   ]
  },
  {
   "cell_type": "code",
   "execution_count": 6,
   "metadata": {},
   "outputs": [
    {
     "name": "stdout",
     "output_type": "stream",
     "text": [
      "5832\n"
     ]
    }
   ],
   "source": [
    "#Finding the ugly number - number divisible by 2,3 or 5\n",
    "n = 150\n",
    "uglyNumb = [2,3,5]\n",
    "uglyDict = {}\n",
    "uglyDict[1] = None\n",
    "count = 2\n",
    "numC = 2\n",
    "integer = 2\n",
    "while count <= n:\n",
    "    numC = integer\n",
    "    while True:\n",
    "        #print(numC, count)\n",
    "        if numC % uglyNumb[0] == 0:\n",
    "            reMain = numC / uglyNumb[0]\n",
    "        elif numC % uglyNumb[1] == 0:\n",
    "            reMain = numC / uglyNumb[1]\n",
    "        elif numC % uglyNumb[2] == 0:\n",
    "            reMain = numC / uglyNumb[2]\n",
    "        else:\n",
    "            reMain = 0\n",
    "\n",
    "        if reMain in uglyDict:\n",
    "            uglyDict[integer] = None\n",
    "            count +=1\n",
    "            integer +=1\n",
    "            break\n",
    "        elif reMain == 0:\n",
    "            integer +=1\n",
    "            break\n",
    "        else:\n",
    "            numC = reMain\n",
    "print(numC)\n",
    "    \n"
   ]
  },
  {
   "cell_type": "code",
   "execution_count": null,
   "metadata": {},
   "outputs": [],
   "source": []
  }
 ],
 "metadata": {
  "kernelspec": {
   "display_name": "Python 3",
   "language": "python",
   "name": "python3"
  },
  "language_info": {
   "codemirror_mode": {
    "name": "ipython",
    "version": 3
   },
   "file_extension": ".py",
   "mimetype": "text/x-python",
   "name": "python",
   "nbconvert_exporter": "python",
   "pygments_lexer": "ipython3",
   "version": "3.8.8"
  }
 },
 "nbformat": 4,
 "nbformat_minor": 2
}
