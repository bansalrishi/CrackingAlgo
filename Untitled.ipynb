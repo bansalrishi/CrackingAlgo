{
 "cells": [
  {
   "cell_type": "code",
   "execution_count": 4,
   "id": "b1dea6e2",
   "metadata": {},
   "outputs": [
    {
     "name": "stdout",
     "output_type": "stream",
     "text": [
      "{1, 3}\n"
     ]
    }
   ],
   "source": [
    "result = set()\n",
    "result.add(1)\n",
    "result.add(3)\n",
    "result.add(1)\n",
    "print(result)\n"
   ]
  },
  {
   "cell_type": "code",
   "execution_count": 1,
   "id": "18aff0eb",
   "metadata": {},
   "outputs": [
    {
     "name": "stdout",
     "output_type": "stream",
     "text": [
      "['a']\n",
      "['b']\n",
      "['b']\n",
      "['a']\n",
      "['a', 'b']\n",
      "['b', 'b']\n",
      "['a', 'b']\n",
      "['a', 'b', 'b']\n",
      "['a', 'b', 'b']\n",
      "['a', 'a', 'b', 'b']\n"
     ]
    }
   ],
   "source": [
    "s = \"abba\"\n",
    "n = len(s)\n",
    "for i in range(n):\n",
    "    for j in range(n-i):\n",
    "        print(sorted(s[j:j + 1 + i]))"
   ]
  },
  {
   "cell_type": "code",
   "execution_count": 3,
   "id": "8f31488b",
   "metadata": {},
   "outputs": [
    {
     "name": "stdout",
     "output_type": "stream",
     "text": [
      "3\n"
     ]
    }
   ],
   "source": [
    "d = 5\n",
    "print(d//2 + 1)"
   ]
  },
  {
   "cell_type": "code",
   "execution_count": 4,
   "id": "b76b8781",
   "metadata": {},
   "outputs": [
    {
     "name": "stdout",
     "output_type": "stream",
     "text": [
      "4\n"
     ]
    }
   ],
   "source": [
    "m = []\n",
    "m.append(2)\n",
    "m.append(4)\n",
    "print(m[-1])"
   ]
  },
  {
   "cell_type": "code",
   "execution_count": null,
   "id": "7da19023",
   "metadata": {},
   "outputs": [],
   "source": []
  }
 ],
 "metadata": {
  "kernelspec": {
   "display_name": "Python 3",
   "language": "python",
   "name": "python3"
  },
  "language_info": {
   "codemirror_mode": {
    "name": "ipython",
    "version": 3
   },
   "file_extension": ".py",
   "mimetype": "text/x-python",
   "name": "python",
   "nbconvert_exporter": "python",
   "pygments_lexer": "ipython3",
   "version": "3.8.8"
  }
 },
 "nbformat": 4,
 "nbformat_minor": 5
}
