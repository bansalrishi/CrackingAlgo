{
 "cells": [
  {
   "cell_type": "code",
   "execution_count": 7,
   "metadata": {},
   "outputs": [
    {
     "name": "stdout",
     "output_type": "stream",
     "text": [
      "2 1\n",
      "4 0\n",
      "5 1\n",
      "9 2\n",
      "4 0\n",
      "2 1\n",
      "5 1\n",
      "9 2\n"
     ]
    }
   ],
   "source": [
    "#creating a simple binary tree\n",
    "class Node:\n",
    "    def __init__(self, data):\n",
    "        self.left = None\n",
    "        self.right = None\n",
    "        self.data = data\n",
    "    \n",
    "    def insert(self, data):\n",
    "        if self.data:\n",
    "            if data < self.data:\n",
    "                if self.left is None:\n",
    "                    self.left = Node(data)\n",
    "                else:\n",
    "                    self.left.insert(data)\n",
    "            else:\n",
    "                if self.right is None:\n",
    "                    self.right = Node(data)\n",
    "                else:\n",
    "                    self.right.insert(data)\n",
    "        else:\n",
    "            self.data = data\n",
    "            \n",
    "    def PrintLCR(self, h):\n",
    "        if self.left:\n",
    "            self.left.PrintLCR(h + 1)\n",
    "        print( self.data, h)\n",
    "        if self.right:\n",
    "            self.right.PrintLCR(h + 1)\n",
    "            \n",
    "    def PrintCLR(self, h):\n",
    "        print( self.data, h)\n",
    "        if self.left:\n",
    "            self.left.PrintCLR(h + 1)\n",
    "        if self.right:\n",
    "            self.right.PrintCLR(h + 1)\n",
    "        \n",
    "root = Node(4)\n",
    "root.insert(5)\n",
    "root.insert(2)\n",
    "root.insert(9)\n",
    "root.PrintLCR(0) \n",
    "root.PrintCLR(0)\n",
    "            \n",
    "        \n",
    "        "
   ]
  },
  {
   "cell_type": "code",
   "execution_count": null,
   "metadata": {},
   "outputs": [],
   "source": []
  }
 ],
 "metadata": {
  "kernelspec": {
   "display_name": "Python 3",
   "language": "python",
   "name": "python3"
  },
  "language_info": {
   "codemirror_mode": {
    "name": "ipython",
    "version": 3
   },
   "file_extension": ".py",
   "mimetype": "text/x-python",
   "name": "python",
   "nbconvert_exporter": "python",
   "pygments_lexer": "ipython3",
   "version": "3.8.5"
  }
 },
 "nbformat": 4,
 "nbformat_minor": 4
}
