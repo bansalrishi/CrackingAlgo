{
 "cells": [
  {
   "cell_type": "code",
   "execution_count": 38,
   "metadata": {},
   "outputs": [
    {
     "name": "stdout",
     "output_type": "stream",
     "text": [
      "LCR Traversal\n",
      "1 2 3 4 5 7 \n",
      "CLR Traversal\n",
      "3 2 1 5 4 7 \n",
      "Level Traversal\n",
      "3 2 5 1 4 7 "
     ]
    }
   ],
   "source": [
    "#creating a simple binary tree\n",
    "class Node:\n",
    "    def __init__(self, data):\n",
    "        self.left = None\n",
    "        self.right = None\n",
    "        self.data = data\n",
    "class Tree:  \n",
    "    def __init__(self):\n",
    "        pass\n",
    "    \n",
    "    def insert(self,root,data):\n",
    "        if root != None:\n",
    "            if data < root.data:\n",
    "                if root.left is None:\n",
    "                    root.left = Node(data)\n",
    "                else:\n",
    "                    self.insert(root.left, data)\n",
    "            else:\n",
    "                if root.right is None:\n",
    "                    root.right = Node(data)\n",
    "                else:\n",
    "                    self.insert(root.right, data)\n",
    "        else:\n",
    "            root.data = data\n",
    "            \n",
    "    def PrintLCR(self, root, h):\n",
    "        if root.left:\n",
    "            self.PrintLCR(root.left, h + 1)\n",
    "        print( root.data,end = \" \")\n",
    "        if root.right:\n",
    "            self.PrintLCR(root.right, h + 1)\n",
    "            \n",
    "    def PrintCLR(self, root, h):\n",
    "        print(root.data, end = \" \")\n",
    "        if root.left:\n",
    "            self.PrintCLR(root.left, h + 1)\n",
    "        if root.right:\n",
    "            self.PrintCLR(root.right, h + 1)\n",
    "    \n",
    "    def Printlevel(self, root):\n",
    "        '''\n",
    "        BST Level-Order Traversal\n",
    "        '''\n",
    "        queue = [root] if root else []\n",
    "\n",
    "        while queue:\n",
    "            node = queue.pop()\n",
    "            print(node.data, end = \" \")\n",
    "\n",
    "            if node.left:\n",
    "                queue.insert(0, node.left)\n",
    "            if node.right:\n",
    "                queue.insert(0, node.right)\n",
    "        \n",
    "        \n",
    "myTree = Tree()\n",
    "root = Node(3)\n",
    "myTree.insert(root, 5)\n",
    "myTree.insert(root, 4)\n",
    "myTree.insert(root, 7)\n",
    "myTree.insert(root, 2)\n",
    "myTree.insert(root, 1)\n",
    "print(\"LCR Traversal\")\n",
    "myTree.PrintLCR(root, 0) \n",
    "print()\n",
    "print(\"CLR Traversal\")\n",
    "myTree.PrintCLR(root, 0)\n",
    "print()\n",
    "print(\"Level Traversal\")\n",
    "myTree.Printlevel(root)      \n",
    "    \n",
    "        \n",
    "        "
   ]
  },
  {
   "cell_type": "code",
   "execution_count": null,
   "metadata": {},
   "outputs": [],
   "source": []
  }
 ],
 "metadata": {
  "kernelspec": {
   "display_name": "Python 3",
   "language": "python",
   "name": "python3"
  },
  "language_info": {
   "codemirror_mode": {
    "name": "ipython",
    "version": 3
   },
   "file_extension": ".py",
   "mimetype": "text/x-python",
   "name": "python",
   "nbconvert_exporter": "python",
   "pygments_lexer": "ipython3",
   "version": "3.8.5"
  }
 },
 "nbformat": 4,
 "nbformat_minor": 4
}
