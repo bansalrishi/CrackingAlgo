{
 "cells": [
  {
   "cell_type": "code",
   "execution_count": 9,
   "metadata": {},
   "outputs": [
    {
     "name": "stdout",
     "output_type": "stream",
     "text": [
      "[5, 2, 5, 8, 9]\n",
      "4\n"
     ]
    }
   ],
   "source": [
    "#Find Max in a 2-D List\n",
    "arr = [[0, 0, 1, 5, 0, 1], [0, 1, 2, 2, 0, 0], [0, 5, 2, 0, 0, 1], [0, 1, 0, 3, 8, 0], [9, 0, 3, 0, 4, 0]]\n",
    "print(list(map(max, arr)))\n",
    "print(max(map(max, a)))"
   ]
  },
  {
   "cell_type": "code",
   "execution_count": 2,
   "metadata": {},
   "outputs": [
    {
     "name": "stdout",
     "output_type": "stream",
     "text": [
      "[[0 0 0 0]\n",
      " [0 0 0 0]\n",
      " [0 0 0 0]\n",
      " [0 0 0 0]]\n"
     ]
    }
   ],
   "source": [
    "#Initializing a 2-D List with 0\n",
    "import numpy as np\n",
    "arr = [[0 for i in range(0,4)] for i in range(0,4)]\n",
    "print(np.array(arr))"
   ]
  },
  {
   "cell_type": "code",
   "execution_count": 10,
   "metadata": {},
   "outputs": [
    {
     "name": "stdout",
     "output_type": "stream",
     "text": [
      "4\n",
      "6\n"
     ]
    }
   ],
   "source": [
    "#Rounding of a number\n",
    "a = 4.34\n",
    "b = 5.67\n",
    "print(round(a))\n",
    "print(round(b))"
   ]
  },
  {
   "cell_type": "code",
   "execution_count": 11,
   "metadata": {},
   "outputs": [
    {
     "name": "stdout",
     "output_type": "stream",
     "text": [
      "a= [1, 2, 3, 4, 5]\n",
      "b= [5, 2, 3, 4, 5]\n"
     ]
    }
   ],
   "source": [
    "#Copying array to another\n",
    "a = [1,2,3,4,5]\n",
    "#to copy with reference- changes in a wont impact b\n",
    "b = a[:]\n",
    "b[0] = 5\n",
    "print(\"a=\",a)\n",
    "print(\"b=\",b)"
   ]
  },
  {
   "cell_type": "code",
   "execution_count": 12,
   "metadata": {},
   "outputs": [
    {
     "name": "stdout",
     "output_type": "stream",
     "text": [
      "4\n",
      "3\n",
      "2\n",
      "1\n",
      "0\n"
     ]
    }
   ],
   "source": [
    "#Generate Permutations\n",
    "\n",
    "\n",
    "\n",
    "data = list('123')\n",
    "for p in permutation(data):\n",
    "    print p"
   ]
  },
  {
   "cell_type": "code",
   "execution_count": null,
   "metadata": {},
   "outputs": [],
   "source": []
  }
 ],
 "metadata": {
  "kernelspec": {
   "display_name": "Python 3",
   "language": "python",
   "name": "python3"
  },
  "language_info": {
   "codemirror_mode": {
    "name": "ipython",
    "version": 3
   },
   "file_extension": ".py",
   "mimetype": "text/x-python",
   "name": "python",
   "nbconvert_exporter": "python",
   "pygments_lexer": "ipython3",
   "version": "3.8.5"
  }
 },
 "nbformat": 4,
 "nbformat_minor": 4
}
