{
 "cells": [
  {
   "cell_type": "code",
   "execution_count": 3,
   "metadata": {},
   "outputs": [
    {
     "name": "stdout",
     "output_type": "stream",
     "text": [
      "24\n"
     ]
    }
   ],
   "source": [
    "#Calculate Factorial\n",
    "\n",
    "dpList = []\n",
    "dpList.append(1)\n",
    "for i in range(1, 5):\n",
    "    dpList.append(dpList[i-1]*i)\n",
    "print(dpList[4])"
   ]
  },
  {
   "cell_type": "code",
   "execution_count": 4,
   "metadata": {},
   "outputs": [
    {
     "name": "stdout",
     "output_type": "stream",
     "text": [
      "34\n"
     ]
    }
   ],
   "source": [
    "#Calculate Fibonacci\n",
    "dpList = []\n",
    "dpList.append(0)\n",
    "dpList.append(1)\n",
    "for i in range(2, 10):\n",
    "    dpList.append(dpList[i-2] + dpList[i-1])\n",
    "\n",
    "print(dpList[9])\n"
   ]
  },
  {
   "cell_type": "code",
   "execution_count": 31,
   "metadata": {},
   "outputs": [
    {
     "name": "stdout",
     "output_type": "stream",
     "text": [
      "2 3 5\n",
      "4 3 5\n",
      "4 6 5\n",
      "6 6 5\n",
      "6 6 10\n",
      "8 9 10\n",
      "10 9 10\n",
      "10 12 10\n",
      "12 12 15\n",
      "16 15 15\n",
      "16 18 20\n",
      "18 18 20\n",
      "20 24 20\n",
      "24 24 25\n",
      "30 27 25\n",
      "30 27 30\n",
      "30 30 30\n",
      "32 36 40\n",
      "36 36 40\n",
      "40 45 40\n",
      "48 45 45\n",
      "48 48 50\n",
      "50 54 50\n",
      "54 54 60\n",
      "[1, 2, 3, 4, 5, 6, 8, 9, 10, 12, 15, 16, 18, 20, 24, 25, 27, 30, 32, 36, 40, 45, 48, 50, 54]\n"
     ]
    }
   ],
   "source": [
    "#Finding the ugly number - number divisible by 2,3 or 5\n",
    "dp = [1]\n",
    "global i2,i3,i5\n",
    "i2 = i3 = i5 = 0\n",
    "n = 25\n",
    "next_2 = 2\n",
    "next_3 = 3\n",
    "next_5 = 5\n",
    "\n",
    "for i in range(1, n):\n",
    "    print(next_2, next_3, next_5)\n",
    "    dp.append(min(next_2, next_3, next_5))\n",
    "    if dp[i] == next_2:\n",
    "        i2 +=1\n",
    "        next_2 = dp[i2]*2\n",
    "    if dp[i] == next_3:\n",
    "        i3 +=1\n",
    "        next_3 = dp[i3]*3\n",
    "    if dp[i] == next_5:\n",
    "        i5 +=1\n",
    "        next_5 = dp[i5]*5\n",
    "print(dp)"
   ]
  },
  {
   "cell_type": "code",
   "execution_count": null,
   "metadata": {},
   "outputs": [],
   "source": []
  }
 ],
 "metadata": {
  "kernelspec": {
   "display_name": "Python 3",
   "language": "python",
   "name": "python3"
  },
  "language_info": {
   "codemirror_mode": {
    "name": "ipython",
    "version": 3
   },
   "file_extension": ".py",
   "mimetype": "text/x-python",
   "name": "python",
   "nbconvert_exporter": "python",
   "pygments_lexer": "ipython3",
   "version": "3.8.5"
  }
 },
 "nbformat": 4,
 "nbformat_minor": 4
}
