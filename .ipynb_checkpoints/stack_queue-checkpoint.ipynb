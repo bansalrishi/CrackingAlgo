{
 "cells": [
  {
   "cell_type": "code",
   "execution_count": 2,
   "metadata": {},
   "outputs": [
    {
     "name": "stdout",
     "output_type": "stream",
     "text": [
      "['One', 'Two', 'Three', 'Four', 'Five']\n",
      "Five\n",
      "['One', 'Two', 'Three', 'Four']\n",
      "Four\n",
      "['One', 'Two', 'Three']\n"
     ]
    }
   ],
   "source": [
    "#Implement Stack\n",
    "stack = [\"One\", \"Two\", \"Three\"]\n",
    "stack.append(\"Four\")\n",
    "stack.append(\"Five\")\n",
    "print(stack)\n",
    "  \n",
    "# Removes the last item\n",
    "print(stack.pop())\n",
    "  \n",
    "print(stack)\n",
    "  \n",
    "# Removes the last item\n",
    "print(stack.pop())\n",
    "  \n",
    "print(stack)"
   ]
  },
  {
   "cell_type": "code",
   "execution_count": 4,
   "metadata": {},
   "outputs": [
    {
     "name": "stdout",
     "output_type": "stream",
     "text": [
      "deque(['One', 'Two', 'Three', 'Four'])\n",
      "deque(['One', 'Two', 'Three', 'Four', 'Five'])\n",
      "deque(['One', 'Two', 'Three', 'Four', 'Five', 'Six'])\n",
      "One\n",
      "Two\n",
      "deque(['Three', 'Four', 'Five', 'Six'])\n",
      "Six\n",
      "deque(['Three', 'Four', 'Five'])\n"
     ]
    }
   ],
   "source": [
    "#Using queue same above operation takes O(1) time complexity\n",
    "#But deleting from starting in list is slow\n",
    "from collections import deque\n",
    "queue = deque([\"One\", \"Two\", \"Three\", \"Four\"])\n",
    "print(queue)\n",
    "queue.append(\"Five\")\n",
    "print(queue)\n",
    "queue.append(\"Six\")\n",
    "print(queue)\n",
    "print(queue.popleft())                 \n",
    "print(queue.popleft())                 \n",
    "print(queue)\n",
    "print(queue.pop())\n",
    "print(queue)"
   ]
  },
  {
   "cell_type": "code",
   "execution_count": 5,
   "metadata": {},
   "outputs": [
    {
     "name": "stdout",
     "output_type": "stream",
     "text": [
      "racecar\n",
      "The word, racecar, is a palindrome.\n"
     ]
    }
   ],
   "source": [
    "#Checking palindrome using stack and queue\n",
    "import sys\n",
    "\n",
    "class Solution:\n",
    "    # Write your code here\n",
    "    def __init__(self):\n",
    "        self.stack = []\n",
    "        self.queue = []\n",
    "        self.length = 0\n",
    "        \n",
    "    def pushCharacter(self, s):\n",
    "        self.stack.append(s)\n",
    "        \n",
    "    def enqueueCharacter(self, s):\n",
    "        self.queue.append(s)\n",
    "        \n",
    "    def popCharacter(self):\n",
    "        return self.stack.pop()\n",
    "    \n",
    "    def dequeueCharacter(self):\n",
    "        s = self.queue[self.length]\n",
    "        self.length += 1\n",
    "        return s\n",
    "        \n",
    "# read the string s\n",
    "s=input()\n",
    "#Create the Solution class object\n",
    "obj=Solution()   \n",
    "\n",
    "l=len(s)\n",
    "# push/enqueue all the characters of string s to stack\n",
    "for i in range(l):\n",
    "    obj.pushCharacter(s[i])\n",
    "    obj.enqueueCharacter(s[i])\n",
    "    \n",
    "isPalindrome=True\n",
    "'''\n",
    "pop the top character from stack\n",
    "dequeue the first character from queue\n",
    "compare both the characters\n",
    "''' \n",
    "for i in range(l // 2):\n",
    "    if obj.popCharacter()!=obj.dequeueCharacter():\n",
    "        isPalindrome=False\n",
    "        break\n",
    "#finally print whether string s is palindrome or not.\n",
    "if isPalindrome:\n",
    "    print(\"The word, \"+s+\", is a palindrome.\")\n",
    "else:\n",
    "    print(\"The word, \"+s+\", is not a palindrome.\")    "
   ]
  },
  {
   "cell_type": "code",
   "execution_count": null,
   "metadata": {},
   "outputs": [],
   "source": []
  }
 ],
 "metadata": {
  "kernelspec": {
   "display_name": "Python 3",
   "language": "python",
   "name": "python3"
  },
  "language_info": {
   "codemirror_mode": {
    "name": "ipython",
    "version": 3
   },
   "file_extension": ".py",
   "mimetype": "text/x-python",
   "name": "python",
   "nbconvert_exporter": "python",
   "pygments_lexer": "ipython3",
   "version": "3.8.5"
  }
 },
 "nbformat": 4,
 "nbformat_minor": 4
}
