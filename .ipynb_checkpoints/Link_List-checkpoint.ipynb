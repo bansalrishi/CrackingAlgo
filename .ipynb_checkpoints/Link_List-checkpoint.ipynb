{
 "cells": [
  {
   "cell_type": "code",
   "execution_count": 4,
   "metadata": {},
   "outputs": [
    {
     "name": "stdout",
     "output_type": "stream",
     "text": [
      "4\n",
      "2\n",
      "3\n",
      "4\n",
      "4 2 3 4 "
     ]
    }
   ],
   "source": [
    "#insert using recursion\n",
    "class Node:\n",
    "    def __init__(self,data):\n",
    "        self.data = data\n",
    "        self.next = None \n",
    "class Solution: \n",
    "    def display(self,head):\n",
    "        current = head\n",
    "        while current:\n",
    "            print(current.data,end=' ')\n",
    "            current = current.next\n",
    "\n",
    "    def insert(self,head,data): \n",
    "    #Complete this method\n",
    "        if head == None:\n",
    "            return Node(data)\n",
    "        elif head.next == None:\n",
    "            head.next = Node(data)\n",
    "        else:\n",
    "            self.insert(head.next, data)\n",
    "        return head\n",
    "        \n",
    "    def __init__(self):\n",
    "        self.head = None\n",
    "        \n",
    "\n",
    "mylist= Solution()\n",
    "T=4\n",
    "head=None\n",
    "for i in range(T):\n",
    "    #Give input one by one\n",
    "    data=int(input())\n",
    "    head=mylist.insert(head,data)    \n",
    "mylist.display(head); "
   ]
  },
  {
   "cell_type": "code",
   "execution_count": 14,
   "metadata": {},
   "outputs": [
    {
     "name": "stdout",
     "output_type": "stream",
     "text": [
      "1\n",
      "2\n",
      "3\n",
      "chekc point1\n",
      "1\n",
      "2\n"
     ]
    }
   ],
   "source": [
    "#Link List without recursion\n",
    "class Node():\n",
    "    def __init__(self,data):\n",
    "        self.data = data\n",
    "        self.next = None\n",
    "        \n",
    "class Link():\n",
    "    def __init__(self):\n",
    "        self.head = None\n",
    "        \n",
    "    def display(self):\n",
    "        disval = self.head\n",
    "        while disval is not None:\n",
    "            print(disval.data)\n",
    "            disval = disval.next\n",
    "    def delete(self):\n",
    "        preval = self.head\n",
    "        curval = self.head\n",
    "        while curval.next is not None:\n",
    "            curval = curval.next\n",
    "            if curval.next is not None:\n",
    "                preval = curval\n",
    "        preval.next = None\n",
    "        \n",
    "        \n",
    "if __name__ == '__main__': \n",
    "    link1 = Link()\n",
    "    link1.head = Node(1)\n",
    "    l2 = Node(2)\n",
    "    l3 = Node(3)\n",
    "    link1.head.next = l2\n",
    "    l2.next = l3\n",
    "    \n",
    "    link1.display()\n",
    "    link1.delete()    \n",
    "    link1.display()"
   ]
  },
  {
   "cell_type": "code",
   "execution_count": null,
   "metadata": {},
   "outputs": [],
   "source": []
  }
 ],
 "metadata": {
  "kernelspec": {
   "display_name": "Python 3",
   "language": "python",
   "name": "python3"
  },
  "language_info": {
   "codemirror_mode": {
    "name": "ipython",
    "version": 3
   },
   "file_extension": ".py",
   "mimetype": "text/x-python",
   "name": "python",
   "nbconvert_exporter": "python",
   "pygments_lexer": "ipython3",
   "version": "3.8.5"
  }
 },
 "nbformat": 4,
 "nbformat_minor": 4
}
