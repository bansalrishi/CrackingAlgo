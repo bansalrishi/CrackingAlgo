{
 "cells": [
  {
   "cell_type": "code",
   "execution_count": 9,
   "metadata": {},
   "outputs": [
    {
     "name": "stdout",
     "output_type": "stream",
     "text": [
      "[5, 2, 5, 8, 9]\n",
      "4\n"
     ]
    }
   ],
   "source": [
    "#Find Max in a 2-D List\n",
    "arr = [[0, 0, 1, 5, 0, 1], [0, 1, 2, 2, 0, 0], [0, 5, 2, 0, 0, 1], [0, 1, 0, 3, 8, 0], [9, 0, 3, 0, 4, 0]]\n",
    "print(list(map(max, arr)))\n",
    "print(max(map(max, a)))"
   ]
  },
  {
   "cell_type": "code",
   "execution_count": 2,
   "metadata": {},
   "outputs": [
    {
     "name": "stdout",
     "output_type": "stream",
     "text": [
      "[[0 0 0 0]\n",
      " [0 0 0 0]\n",
      " [0 0 0 0]]\n"
     ]
    }
   ],
   "source": [
    "#Initializing a 2-D List with 0\n",
    "import numpy as np\n",
    "arr = [[0 for i in range(0,4)] for j in range(0,3)]\n",
    "print(np.array(arr))"
   ]
  },
  {
   "cell_type": "code",
   "execution_count": 10,
   "metadata": {},
   "outputs": [
    {
     "name": "stdout",
     "output_type": "stream",
     "text": [
      "4\n",
      "6\n"
     ]
    }
   ],
   "source": [
    "#Rounding of a number\n",
    "a = 4.34\n",
    "b = 5.67\n",
    "print(round(a))\n",
    "print(round(b))"
   ]
  },
  {
   "cell_type": "code",
   "execution_count": 11,
   "metadata": {},
   "outputs": [
    {
     "name": "stdout",
     "output_type": "stream",
     "text": [
      "a= [1, 2, 3, 4, 5]\n",
      "b= [5, 2, 3, 4, 5]\n"
     ]
    }
   ],
   "source": [
    "#Copying array to another\n",
    "a = [1,2,3,4,5]\n",
    "#to copy with reference- changes in \"a\" wont impact \"b\"\n",
    "b = a[:]\n",
    "b[0] = 5\n",
    "print(\"a=\",a)\n",
    "print(\"b=\",b)"
   ]
  },
  {
   "cell_type": "code",
   "execution_count": 8,
   "metadata": {},
   "outputs": [
    {
     "name": "stdout",
     "output_type": "stream",
     "text": [
      "Harry\n",
      "Berry\n"
     ]
    }
   ],
   "source": [
    "#Sort and print elements of an array\n",
    "#* symbol is use to print the list elements in a single line with space#\n",
    "lst = ['Harry', 'Berry']\n",
    "a = sorted(lst, reverse=True)\n",
    "print(*a, sep=\"\\n\")"
   ]
  },
  {
   "cell_type": "code",
   "execution_count": 12,
   "metadata": {},
   "outputs": [
    {
     "name": "stdout",
     "output_type": "stream",
     "text": [
      "2.35\n",
      "2.35\n"
     ]
    }
   ],
   "source": [
    "#Printing upto 2 decimal places\n",
    "a = 2.3456\n",
    "print(\"{:.2f}\".format(a))\n",
    "print(round(a, 2))"
   ]
  },
  {
   "cell_type": "code",
   "execution_count": 3,
   "metadata": {},
   "outputs": [
    {
     "name": "stdout",
     "output_type": "stream",
     "text": [
      "Value of i= 0\n",
      "Value of i= 1\n",
      "Value of i= 2\n",
      "Value of i= 3\n"
     ]
    }
   ],
   "source": [
    "for i in range(4):\n",
    "    print(\"Value of i=\",i)\n",
    "    i += 1"
   ]
  },
  {
   "cell_type": "code",
   "execution_count": 7,
   "metadata": {},
   "outputs": [
    {
     "name": "stdout",
     "output_type": "stream",
     "text": [
      "i\n",
      "i\n",
      "This hs an example\n"
     ]
    }
   ],
   "source": [
    "#'str' object does not support item assignment\n",
    "s = \"This is an example\"\n",
    "print(s[5])\n",
    "#s[5] = \"h\"\n",
    "print(s[5])\n",
    "#Convert string to list and than join back\n",
    "listS = list(s)\n",
    "listS[5] = \"h\"\n",
    "print(\"\".join(listS))"
   ]
  },
  {
   "cell_type": "code",
   "execution_count": 5,
   "metadata": {},
   "outputs": [
    {
     "name": "stdout",
     "output_type": "stream",
     "text": [
      "abc\n"
     ]
    }
   ],
   "source": [
    "#Convert a list of characters into a string\n",
    "s = ['a', 'b', 'c']\n",
    "print(\"\".join(s))"
   ]
  },
  {
   "cell_type": "code",
   "execution_count": 8,
   "metadata": {},
   "outputs": [
    {
     "data": {
      "text/plain": [
       "array([2, 0], dtype=int64)"
      ]
     },
     "execution_count": 8,
     "metadata": {},
     "output_type": "execute_result"
    }
   ],
   "source": [
    "import numpy as np\n",
    "a = np.array([2, 5, 1, 8, 3])\n",
    "a.argsort()[: 2]"
   ]
  },
  {
   "cell_type": "code",
   "execution_count": 2,
   "metadata": {},
   "outputs": [
    {
     "name": "stdout",
     "output_type": "stream",
     "text": [
      "[[1, 2]]\n"
     ]
    }
   ],
   "source": [
    "pairs = []\n",
    "pairs.append(list((1,2)))\n",
    "print(pairs)"
   ]
  },
  {
   "cell_type": "code",
   "execution_count": 4,
   "metadata": {},
   "outputs": [
    {
     "name": "stdout",
     "output_type": "stream",
     "text": [
      "4\n",
      "2\n",
      "2\n",
      "1\n",
      "4\n",
      "2\n",
      "2\n",
      "1\n"
     ]
    }
   ],
   "source": [
    "#Print in reverse order\n",
    "a = [1,2,2,4]\n",
    "for i in reversed(a):\n",
    "    print(i)\n",
    "for i in range(len(a)-1, -1, -1):\n",
    "    print(a[i])"
   ]
  },
  {
   "cell_type": "code",
   "execution_count": 11,
   "metadata": {},
   "outputs": [
    {
     "name": "stdout",
     "output_type": "stream",
     "text": [
      "[['Shyam', 'ram@gmail.com'], ['Ram', 'shyam@gmail.com'], ['Ghanshyam', 'zebra@gmail.com']]\n"
     ]
    }
   ],
   "source": [
    "#Sort a list according to the second element in sublist\n",
    "a = [[\"Ram\", \"shyam@gmail.com\"], [\"Shyam\", \"ram@gmail.com\"], [\"Ghanshyam\", \"zebra@gmail.com\"]]\n",
    "print(sorted(a, key=lambda x: x[1]))"
   ]
  },
  {
   "cell_type": "code",
   "execution_count": 12,
   "metadata": {},
   "outputs": [
    {
     "name": "stdout",
     "output_type": "stream",
     "text": [
      "2\n"
     ]
    }
   ],
   "source": [
    "#Bitwise AND operator\n",
    "a = 2\n",
    "b = 3\n",
    "print(a & b)"
   ]
  },
  {
   "cell_type": "code",
   "execution_count": 1,
   "metadata": {},
   "outputs": [
    {
     "name": "stdout",
     "output_type": "stream",
     "text": [
      "Ram 25\n",
      "Shyam 50\n"
     ]
    }
   ],
   "source": [
    "#Accessing key and value both\n",
    "dictNames = {'Ram' : 25, 'Shyam': 50}\n",
    "for key, value in dictNames.items():\n",
    "    print(key, value)"
   ]
  },
  {
   "cell_type": "code",
   "execution_count": 19,
   "metadata": {},
   "outputs": [
    {
     "name": "stdout",
     "output_type": "stream",
     "text": [
      "[1, 2, 3, 4, 5, 6, 8]\n"
     ]
    }
   ],
   "source": [
    "#Removing duplicates\n",
    "arr = [1, 3, 2, 4, 2, 8, 5, 6]\n",
    "print(sorted(list(set(arr))))"
   ]
  },
  {
   "cell_type": "code",
   "execution_count": 4,
   "metadata": {},
   "outputs": [
    {
     "name": "stdout",
     "output_type": "stream",
     "text": [
      "{'a': None, 'x': None, 'y': None, 'b': None, 'c': None}\n",
      "['a', 'x', 'y', 'b', 'c']\n"
     ]
    }
   ],
   "source": [
    "#use regular dict.fromkeys() to get the distinct elements from the list\n",
    "my_list = ['a','x','a','y','a','b','b','c']\n",
    "my_final_list = dict.fromkeys(my_list)\n",
    "print(my_final_list)\n",
    "print(list(my_final_list))"
   ]
  },
  {
   "cell_type": "code",
   "execution_count": null,
   "metadata": {},
   "outputs": [],
   "source": []
  }
 ],
 "metadata": {
  "kernelspec": {
   "display_name": "Python 3",
   "language": "python",
   "name": "python3"
  },
  "language_info": {
   "codemirror_mode": {
    "name": "ipython",
    "version": 3
   },
   "file_extension": ".py",
   "mimetype": "text/x-python",
   "name": "python",
   "nbconvert_exporter": "python",
   "pygments_lexer": "ipython3",
   "version": "3.8.5"
  }
 },
 "nbformat": 4,
 "nbformat_minor": 4
}
